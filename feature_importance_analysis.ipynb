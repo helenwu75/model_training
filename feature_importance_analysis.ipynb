{
 "cells": [
  {
   "cell_type": "markdown",
   "id": "01bb416c",
   "metadata": {},
   "source": [
    "# Feature Importance Analysis for Polymarket Election Markets\n",
    "\n",
    "This notebook performs a comprehensive feature importance analysis for Polymarket election market data, using three different models:\n",
    "1. Gradient Boosting Regressor\n",
    "2. Random Forest Regressor\n",
    "3. Linear Regression with L1 Regularization (Lasso)\n",
    "\n",
    "The analysis includes:\n",
    "- Model-specific importance\n",
    "- Permutation importance (model-agnostic)\n",
    "- SHAP values for the best-performing model\n",
    "- Consensus feature ranking"
   ]
  },
  {
   "cell_type": "code",
   "execution_count": null,
   "id": "b8d92951",
   "metadata": {},
   "outputs": [],
   "source": [
    "import numpy as np\n",
    "import pandas as pd\n",
    "import matplotlib.pyplot as plt\n",
    "import seaborn as sns\n",
    "import os\n",
    "import joblib\n",
    "from datetime import datetime\n",
    "from sklearn.ensemble import GradientBoostingRegressor, RandomForestRegressor\n",
    "from sklearn.linear_model import Lasso\n",
    "from sklearn.metrics import mean_squared_error, mean_absolute_error, r2_score\n",
    "from sklearn.inspection import permutation_importance\n",
    "import shap\n",
    "from collections import Counter\n",
    "import warnings\n",
    "warnings.filterwarnings('ignore')\n",
    "\n",
    "# Set matplotlib style\n",
    "plt.style.use('seaborn-v0_8-whitegrid')\n",
    "sns.set_style(\"whitegrid\")\n",
    "sns.set_context(\"notebook\", font_scale=1.2)\n",
    "\n",
    "# Set up directories\n",
    "INPUT_DIR = \"modified_analysis\"\n",
    "OUTPUT_DIR = \"feature_importance_results\"\n",
    "os.makedirs(OUTPUT_DIR, exist_ok=True)\n",
    "print(f\"Results will be saved to: {OUTPUT_DIR}\")\n",
    "\n",
    "# Create a timestamp for this run\n",
    "timestamp = datetime.now().strftime(\"%Y%m%d_%H%M%S\")\n",
    "print(f\"Analysis started at: {timestamp}\")"
   ]
  }
 ],
 "metadata": {},
 "nbformat": 4,
 "nbformat_minor": 5
}
